{
 "cells": [
  {
   "cell_type": "code",
   "execution_count": 110,
   "metadata": {},
   "outputs": [],
   "source": [
    "# 1\n",
    "class parking():\n",
    "    def __init__(self,total_nums,car_nums):\n",
    "        self.total_nums = total_nums\n",
    "        self.car_nums = car_nums\n",
    "        self.id_list = []\n",
    "    def push_car(self,id_car):\n",
    "        if self.total_nums <= self.car_nums:\n",
    "            print('车停满了')\n",
    "            return\n",
    "        self.car_nums += 1\n",
    "        self.id_list.append(id_car)\n",
    "        print('车辆{}已停入'.format(id_car))\n",
    "    def pop_car(self,id_car):\n",
    "        if id_car not in self.id_list:\n",
    "            print('没有这辆车')\n",
    "            return\n",
    "        self.car_nums -= 1\n",
    "        self.id_list.remove(id_car)\n",
    "        print('车辆{}已取出'.format(id_car))\n",
    "\n"
   ]
  },
  {
   "cell_type": "code",
   "execution_count": 111,
   "metadata": {},
   "outputs": [],
   "source": [
    "# 2\n",
    "class parkingboy():\n",
    "    def save_car(self,id_car,parking_entry):\n",
    "        parking_entry.push_car(id_car)     \n",
    "    def get_car(self,id_car,parking_entry):\n",
    "        parking_entry.pop_car(id_car)\n",
    "\n"
   ]
  },
  {
   "cell_type": "code",
   "execution_count": 113,
   "metadata": {},
   "outputs": [
    {
     "name": "stdout",
     "output_type": "stream",
     "text": [
      "车停满了\n",
      "车停满了\n"
     ]
    }
   ],
   "source": [
    "if __name__ == \"__main__\":\n",
    "    p = parking(10,10)\n",
    "    p.push_car(5)\n",
    "    p1 =parkingboy()\n",
    "    p1.save_car(5,p)\n",
    "    "
   ]
  },
  {
   "cell_type": "code",
   "execution_count": 3,
   "metadata": {},
   "outputs": [],
   "source": [
    "# 3\n",
    "class smart_parkingboy(parkingboy):\n",
    "    def find_parking(self,parking_list):\n",
    "        max_free_nums = 0\n",
    "        for i in parkingboy:\n",
    "            free_nums = i.total_nums-i.car_nums\n",
    "            if max_free_nums < free_nums:\n",
    "                max_free_nums = free_nums\n",
    "                parking = i\n",
    "        return parking\n",
    "    def save_car(self,id_car,parking_list):\n",
    "        find_parking(self,parking_list).push_car(id_car)\n",
    "\n"
   ]
  },
  {
   "cell_type": "code",
   "execution_count": 4,
   "metadata": {},
   "outputs": [],
   "source": [
    "# 4\n",
    "class super_parkingboy(parkingboy):\n",
    "    def find_parking(self,parking_list):\n",
    "        max_free_ratio = 0\n",
    "        for i in parkingboy:\n",
    "            free_ratio = (i.total_nums-i.car_nums)/i.total_nums\n",
    "            if max_free_ratio < free_ratio:\n",
    "                max_free_ratio = free_ratio\n",
    "                parking = i\n",
    "        return parking\n",
    "    def save_car(self,id_car,parking_list):\n",
    "        find_parking(self,parking_list).push_car(id_car)\n",
    "            \n"
   ]
  },
  {
   "cell_type": "code",
   "execution_count": null,
   "metadata": {},
   "outputs": [],
   "source": [
    "# 5\n",
    "class parking_manager(parkingboy):\n",
    "    def choose_one2do(boy,id_car):\n",
    "        if boy == 'parkingboy':\n",
    "            boy_entry = parkingboy()\n",
    "        if boy == 'smart_parkingboy':\n",
    "            boy_entry = smart_parkingboy()\n",
    "        if boy == 'super_parkingboy':\n",
    "            boy_entry = super_parkingboy()\n",
    "        boy_entry.save_car(id_car)"
   ]
  }
 ],
 "metadata": {
  "kernelspec": {
   "display_name": "Python 3",
   "language": "python",
   "name": "python3"
  },
  "language_info": {
   "codemirror_mode": {
    "name": "ipython",
    "version": 3
   },
   "file_extension": ".py",
   "mimetype": "text/x-python",
   "name": "python",
   "nbconvert_exporter": "python",
   "pygments_lexer": "ipython3",
   "version": "3.8.3"
  }
 },
 "nbformat": 4,
 "nbformat_minor": 4
}
